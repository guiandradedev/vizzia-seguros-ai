{
 "cells": [
  {
   "cell_type": "code",
   "execution_count": null,
   "id": "5ac8937c",
   "metadata": {
    "vscode": {
     "languageId": "markdown"
    }
   },
   "outputs": [],
   "source": [
    "# 🚀 Treinamento YOLO para Detecção de Placas\n",
    "\n",
    "Este notebook treina um modelo YOLO personalizado para detecção de placas de carros brasileiras.\n",
    "\n",
    "## Pré-requisitos\n",
    "- Dataset de placas no formato YOLO\n",
    "- GPU com CUDA (recomendado)\n",
    "- Ultralytics YOLO instalado"
   ]
  },
  {
   "cell_type": "markdown",
   "id": "80313e33",
   "metadata": {},
   "source": [
    "## 1. Importações e Verificação de GPU"
   ]
  },
  {
   "cell_type": "code",
   "execution_count": null,
   "id": "111ef884",
   "metadata": {},
   "outputs": [],
   "source": [
    "import os\n",
    "from ultralytics import YOLO\n",
    "import torch\n",
    "import matplotlib.pyplot as plt\n",
    "from IPython.display import display, Image"
   ]
  },
  {
   "cell_type": "code",
   "execution_count": null,
   "id": "32309d9e",
   "metadata": {},
   "outputs": [],
   "source": [
    "def print_cuda():\n",
    "    \"\"\"\n",
    "    Verifica disponibilidade da GPU e mostra informações detalhadas\n",
    "    \"\"\"\n",
    "    print('🔍 Verificando GPU...')\n",
    "    print('GPU DISPONÍVEL:', '✅ SIM' if torch.cuda.is_available() else '❌ NÃO')\n",
    "    \n",
    "    if torch.cuda.is_available():\n",
    "        print(f'\\n📊 Informações das GPUs ({torch.cuda.device_count()} encontradas):')\n",
    "        print('-' * 60)\n",
    "        \n",
    "        for i in range(torch.cuda.device_count()):\n",
    "            props = torch.cuda.get_device_properties(i)\n",
    "            allocated = torch.cuda.memory_allocated(i) / 1024**3\n",
    "            cached = torch.cuda.memory_reserved(i) / 1024**3\n",
    "            total = props.total_memory / 1024**3\n",
    "            free = total - cached\n",
    "            \n",
    "            print(f\"🖥️  GPU {i}: {torch.cuda.get_device_name(i)}\")\n",
    "            print(f\"   💾 Memória Total: {total:.2f} GB\")\n",
    "            print(f\"   🔴 Memória Alocada: {allocated:.2f} GB\")\n",
    "            print(f\"   🟡 Memória Cached: {cached:.2f} GB\")\n",
    "            print(f\"   🟢 Memória Livre: {free:.2f} GB\")\n",
    "            print(f\"   🔧 Compute Capability: {props.major}.{props.minor}\")\n",
    "            print('-' * 60)\n",
    "    else:\n",
    "        print('⚠️  Treinamento será executado na CPU (muito mais lento)')\n",
    "\n",
    "# Executa verificação\n",
    "print_cuda()"
   ]
  },
  {
   "cell_type": "markdown",
   "id": "3b2b7d91",
   "metadata": {},
   "source": [
    "## 2. Configuração do Dataset\n",
    "\n",
    "Verifica se o dataset existe e mostra sua estrutura."
   ]
  },
  {
   "cell_type": "code",
   "execution_count": null,
   "id": "10309788",
   "metadata": {},
   "outputs": [],
   "source": [
    "# Caminho para o arquivo de configuração do dataset\n",
    "dataset_config = '../../datasets/plates/data.yaml'\n",
    "\n",
    "# Verifica se o dataset existe\n",
    "if os.path.exists(dataset_config):\n",
    "    print(f'✅ Dataset encontrado: {dataset_config}')\n",
    "    \n",
    "    # Mostra conteúdo do arquivo YAML\n",
    "    with open(dataset_config, 'r') as f:\n",
    "        content = f.read()\n",
    "        print('\\n📄 Conteúdo do data.yaml:')\n",
    "        print('-' * 40)\n",
    "        print(content)\n",
    "        print('-' * 40)\n",
    "else:\n",
    "    print(f'❌ Dataset não encontrado: {dataset_config}')\n",
    "    print('\\n📋 Estrutura esperada:')\n",
    "    print('datasets/plates/')\n",
    "    print('├── data.yaml')\n",
    "    print('├── images/')\n",
    "    print('│   ├── train/')\n",
    "    print('│   ├── val/')\n",
    "    print('│   └── test/')\n",
    "    print('└── labels/')\n",
    "    print('    ├── train/')\n",
    "    print('    ├── val/')\n",
    "    print('    └── test/')"
   ]
  },
  {
   "cell_type": "markdown",
   "id": "acaac56a",
   "metadata": {},
   "source": [
    "## 3. Carregamento do Modelo Base\n",
    "\n",
    "Carrega o modelo YOLO11n pré-treinado como base."
   ]
  },
  {
   "cell_type": "code",
   "execution_count": null,
   "id": "31658ab0",
   "metadata": {},
   "outputs": [],
   "source": [
    "# Carrega modelo pré-treinado\n",
    "print('🤖 Carregando modelo YOLO11n...')\n",
    "model = YOLO(\"../../yolo11n.pt\")\n",
    "\n",
    "# Mostra informações do modelo\n",
    "print('✅ Modelo carregado com sucesso!')\n",
    "print(f'📊 Parâmetros do modelo: {sum(p.numel() for p in model.model.parameters()):,}')\n",
    "print(f'💾 Tamanho aproximado: {sum(p.numel() * 4 for p in model.model.parameters()) / 1024**2:.1f} MB')"
   ]
  },
  {
   "cell_type": "markdown",
   "id": "879e78b1",
   "metadata": {},
   "source": [
    "## 4. Configuração de Treinamento\n",
    "\n",
    "Define os hiperparâmetros para um treinamento seguro e eficiente."
   ]
  },
  {
   "cell_type": "code",
   "execution_count": null,
   "id": "38f4773f",
   "metadata": {},
   "outputs": [],
   "source": [
    "# Configurações de treinamento\n",
    "training_config = {\n",
    "    # Dataset\n",
    "    'data': dataset_config,\n",
    "    \n",
    "    # Configurações SEGURAS para evitar crash\n",
    "    'workers': 4,        # Poucos workers para economizar CPU\n",
    "    'device': [0],       # GPU única (mude para 'cpu' se não tiver GPU)\n",
    "    'batch': 8,          # Batch pequeno para economizar VRAM\n",
    "    'imgsz': 416,        # Imagem menor = menos processamento\n",
    "    \n",
    "    # Configurações de treinamento conservadoras\n",
    "    'epochs': 100,       # Épocas suficientes para convergência\n",
    "    'patience': 20,      # Para early stopping\n",
    "    'optimizer': 'SGD',  # SGD usa menos memória que AdamW\n",
    "    'lr0': 0.001,        # Learning rate seguro\n",
    "    \n",
    "    # Data augmentation reduzida (economiza processamento)\n",
    "    'mosaic': 0.5,       # Reduz mosaic\n",
    "    'mixup': 0.0,        # Remove mixup\n",
    "    'copy_paste': 0.0,   # Remove copy-paste\n",
    "    \n",
    "    # Configurações de projeto\n",
    "    'project': '../../runs/plate/yolo-safe',\n",
    "    'name': 'safe-config',\n",
    "    'exist_ok': True,\n",
    "    'resume': False,\n",
    "    \n",
    "    # Configurações otimizadas\n",
    "    'cos_lr': False,     # Remove cosine scheduler\n",
    "    'warmup_epochs': 1,  # Warm-up mínimo\n",
    "    'weight_decay': 0.0001,\n",
    "    \n",
    "    # Salvamento e monitoramento\n",
    "    'save_period': 25,   # Salva checkpoints a cada 25 épocas\n",
    "    'val': True,         # Validação habilitada\n",
    "    'plots': True,       # Gera plots de métricas\n",
    "    'verbose': True      # Output detalhado\n",
    "}\n",
    "\n",
    "# Mostra configuração\n",
    "print('⚙️  Configuração de Treinamento:')\n",
    "print('=' * 50)\n",
    "for key, value in training_config.items():\n",
    "    print(f'{key:15}: {value}')\n",
    "print('=' * 50)"
   ]
  },
  {
   "cell_type": "markdown",
   "id": "40c7ab4d",
   "metadata": {},
   "source": [
    "## 5. Treinamento do Modelo\n",
    "\n",
    "⚠️ **ATENÇÃO:** O treinamento pode demorar várias horas dependendo do hardware disponível."
   ]
  },
  {
   "cell_type": "code",
   "execution_count": null,
   "id": "be0509f9",
   "metadata": {},
   "outputs": [],
   "source": [
    "# Limpa cache da GPU antes do treinamento\n",
    "if torch.cuda.is_available():\n",
    "    torch.cuda.empty_cache()\n",
    "    print('🧹 Cache da GPU limpo')\n",
    "\n",
    "print('\\n🚀 INICIANDO TREINAMENTO...')\n",
    "print('⏰ Isso pode demorar várias horas!')\n",
    "print('💡 Use Ctrl+C para interromper se necessário\\n')\n",
    "\n",
    "try:\n",
    "    # EXECUTA O TREINAMENTO\n",
    "    results = model.train(**training_config)\n",
    "    \n",
    "    print('\\n🎉 TREINAMENTO CONCLUÍDO COM SUCESSO!')\n",
    "    print(f'📁 Resultados salvos em: {training_config[\"project\"]}/{training_config[\"name\"]}')\n",
    "    \n",
    "except KeyboardInterrupt:\n",
    "    print('\\n⏹️  Treinamento interrompido pelo usuário')\n",
    "    \n",
    "except Exception as e:\n",
    "    print(f'\\n❌ Erro durante o treinamento: {e}')\n",
    "    print('💡 Tente reduzir o batch size ou usar CPU')"
   ]
  },
  {
   "cell_type": "markdown",
   "id": "63ffd597",
   "metadata": {},
   "source": [
    "## 6. Visualização dos Resultados\n",
    "\n",
    "Exibe gráficos e métricas do treinamento."
   ]
  },
  {
   "cell_type": "code",
   "execution_count": null,
   "id": "6e65abe0",
   "metadata": {},
   "outputs": [],
   "source": [
    "# Caminho para os resultados\n",
    "results_path = f\"{training_config['project']}/{training_config['name']}\"\n",
    "\n",
    "# Lista arquivos gerados\n",
    "print('📊 Arquivos gerados:')\n",
    "if os.path.exists(results_path):\n",
    "    for root, dirs, files in os.walk(results_path):\n",
    "        level = root.replace(results_path, '').count(os.sep)\n",
    "        indent = ' ' * 2 * level\n",
    "        print(f'{indent}{os.path.basename(root)}/')\n",
    "        subindent = ' ' * 2 * (level + 1)\n",
    "        for file in files:\n",
    "            print(f'{subindent}{file}')\n",
    "else:\n",
    "    print('❌ Pasta de resultados não encontrada')"
   ]
  },
  {
   "cell_type": "code",
   "execution_count": null,
   "id": "aebe9e94",
   "metadata": {},
   "outputs": [],
   "source": [
    "# Exibe gráfico de resultados se existir\n",
    "results_image = os.path.join(results_path, 'results.png')\n",
    "\n",
    "if os.path.exists(results_image):\n",
    "    print('📈 Gráfico de Métricas de Treinamento:')\n",
    "    display(Image(results_image))\n",
    "else:\n",
    "    print('⚠️  Gráfico de resultados não encontrado')"
   ]
  },
  {
   "cell_type": "code",
   "execution_count": null,
   "id": "b5783cab",
   "metadata": {},
   "outputs": [],
   "source": [
    "# Exibe matriz de confusão se existir\n",
    "confusion_matrix = os.path.join(results_path, 'confusion_matrix.png')\n",
    "\n",
    "if os.path.exists(confusion_matrix):\n",
    "    print('🎯 Matriz de Confusão:')\n",
    "    display(Image(confusion_matrix))\n",
    "else:\n",
    "    print('⚠️  Matriz de confusão não encontrada')"
   ]
  },
  {
   "cell_type": "markdown",
   "id": "b95287fa",
   "metadata": {},
   "source": [
    "## 7. Teste do Modelo Treinado\n",
    "\n",
    "Carrega o melhor modelo e testa em algumas imagens."
   ]
  },
  {
   "cell_type": "code",
   "execution_count": null,
   "id": "10927f61",
   "metadata": {},
   "outputs": [],
   "source": [
    "# Caminho para o melhor modelo\n",
    "best_model_path = os.path.join(results_path, 'weights', 'best.pt')\n",
    "\n",
    "if os.path.exists(best_model_path):\n",
    "    print(f'🏆 Carregando melhor modelo: {best_model_path}')\n",
    "    \n",
    "    # Carrega o modelo treinado\n",
    "    trained_model = YOLO(best_model_path)\n",
    "    \n",
    "    print('✅ Modelo carregado com sucesso!')\n",
    "    print(f'📁 Tamanho do arquivo: {os.path.getsize(best_model_path) / 1024**2:.1f} MB')\n",
    "    \n",
    "else:\n",
    "    print('❌ Modelo treinado não encontrado')\n",
    "    print('💡 Verifique se o treinamento foi concluído com sucesso')"
   ]
  },
  {
   "cell_type": "code",
   "execution_count": null,
   "id": "bb65ed7f",
   "metadata": {},
   "outputs": [],
   "source": [
    "# Testa o modelo em imagens de exemplo (se existirem)\n",
    "test_images_path = '../../images_test/'\n",
    "\n",
    "if os.path.exists(test_images_path) and 'trained_model' in locals():\n",
    "    test_images = [f for f in os.listdir(test_images_path) if f.lower().endswith(('.png', '.jpg', '.jpeg'))]\n",
    "    \n",
    "    if test_images:\n",
    "        print(f'🧪 Testando modelo em {len(test_images)} imagens...')\n",
    "        \n",
    "        for img_name in test_images[:3]:  # Testa apenas as 3 primeiras\n",
    "            img_path = os.path.join(test_images_path, img_name)\n",
    "            \n",
    "            print(f'\\n🖼️  Testando: {img_name}')\n",
    "            \n",
    "            # Executa predição\n",
    "            results = trained_model(img_path, conf=0.5)\n",
    "            \n",
    "            # Mostra resultados\n",
    "            for r in results:\n",
    "                if len(r.boxes) > 0:\n",
    "                    print(f'   ✅ {len(r.boxes)} placa(s) detectada(s)')\n",
    "                    for i, box in enumerate(r.boxes):\n",
    "                        conf = box.conf[0].item()\n",
    "                        print(f'      Placa {i+1}: Confiança {conf:.2f}')\n",
    "                else:\n",
    "                    print('   ❌ Nenhuma placa detectada')\n",
    "    else:\n",
    "        print('⚠️  Nenhuma imagem de teste encontrada')\n",
    "else:\n",
    "    print('⚠️  Pasta de imagens de teste não encontrada ou modelo não carregado')"
   ]
  },
  {
   "cell_type": "markdown",
   "id": "73c8b345",
   "metadata": {},
   "source": [
    "## 8. Informações Finais\n",
    "\n",
    "Resumo do treinamento e próximos passos."
   ]
  },
  {
   "cell_type": "code",
   "execution_count": null,
   "id": "e641260b",
   "metadata": {},
   "outputs": [],
   "source": [
    "print('🎯 RESUMO DO TREINAMENTO')\n",
    "print('=' * 50)\n",
    "\n",
    "if os.path.exists(best_model_path):\n",
    "    print('✅ Status: Treinamento concluído com sucesso')\n",
    "    print(f'📁 Modelo salvo em: {best_model_path}')\n",
    "    print(f'📊 Resultados em: {results_path}')\n",
    "    \n",
    "    print('\\n📋 PRÓXIMOS PASSOS:')\n",
    "    print('1. 📈 Analise os gráficos de métricas acima')\n",
    "    print('2. 🧪 Teste o modelo em novas imagens')\n",
    "    print('3. 🔧 Ajuste hiperparâmetros se necessário')\n",
    "    print('4. 🚀 Integre o modelo na sua aplicação')\n",
    "    \n",
    "    print('\\n💡 DICAS:')\n",
    "    print('• Use o arquivo best.pt para inferência')\n",
    "    print('• O arquivo last.pt pode ser usado para resumir treinamento')\n",
    "    print('• Monitore as métricas mAP50 e mAP50-95')\n",
    "    print('• Considere mais épocas se as métricas ainda estão melhorando')\n",
    "    \n",
    "else:\n",
    "    print('❌ Status: Treinamento não concluído ou com erro')\n",
    "    print('\\n🔧 SOLUÇÕES:')\n",
    "    print('• Verifique se o dataset está no formato correto')\n",
    "    print('• Reduza batch_size se houver erro de memória')\n",
    "    print('• Use device=\"cpu\" se não tiver GPU')\n",
    "    print('• Verifique os logs de erro acima')\n",
    "\n",
    "print('\\n' + '=' * 50)"
   ]
  }
 ],
 "metadata": {
  "language_info": {
   "name": "python"
  }
 },
 "nbformat": 4,
 "nbformat_minor": 5
}
